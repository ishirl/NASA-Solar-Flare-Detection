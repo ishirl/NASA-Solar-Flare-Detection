{
  "nbformat": 4,
  "nbformat_minor": 0,
  "metadata": {
    "colab": {
      "provenance": [],
      "gpuType": "T4"
    },
    "kernelspec": {
      "name": "python3",
      "display_name": "Python 3"
    },
    "language_info": {
      "name": "python"
    },
    "accelerator": "GPU"
  },
  "cells": [
    {
      "cell_type": "code",
      "source": [
        "!pip install focal_loss"
      ],
      "metadata": {
        "colab": {
          "base_uri": "https://localhost:8080/"
        },
        "id": "V9ZXczFTw_KU",
        "outputId": "273350f4-a7c2-454c-bfa3-9cb9657240ca"
      },
      "execution_count": null,
      "outputs": [
        {
          "output_type": "stream",
          "name": "stdout",
          "text": [
            "Requirement already satisfied: focal_loss in /usr/local/lib/python3.12/dist-packages (0.0.7)\n",
            "Requirement already satisfied: tensorflow>=2.2 in /usr/local/lib/python3.12/dist-packages (from focal_loss) (2.19.0)\n",
            "Requirement already satisfied: absl-py>=1.0.0 in /usr/local/lib/python3.12/dist-packages (from tensorflow>=2.2->focal_loss) (1.4.0)\n",
            "Requirement already satisfied: astunparse>=1.6.0 in /usr/local/lib/python3.12/dist-packages (from tensorflow>=2.2->focal_loss) (1.6.3)\n",
            "Requirement already satisfied: flatbuffers>=24.3.25 in /usr/local/lib/python3.12/dist-packages (from tensorflow>=2.2->focal_loss) (25.2.10)\n",
            "Requirement already satisfied: gast!=0.5.0,!=0.5.1,!=0.5.2,>=0.2.1 in /usr/local/lib/python3.12/dist-packages (from tensorflow>=2.2->focal_loss) (0.6.0)\n",
            "Requirement already satisfied: google-pasta>=0.1.1 in /usr/local/lib/python3.12/dist-packages (from tensorflow>=2.2->focal_loss) (0.2.0)\n",
            "Requirement already satisfied: libclang>=13.0.0 in /usr/local/lib/python3.12/dist-packages (from tensorflow>=2.2->focal_loss) (18.1.1)\n",
            "Requirement already satisfied: opt-einsum>=2.3.2 in /usr/local/lib/python3.12/dist-packages (from tensorflow>=2.2->focal_loss) (3.4.0)\n",
            "Requirement already satisfied: packaging in /usr/local/lib/python3.12/dist-packages (from tensorflow>=2.2->focal_loss) (25.0)\n",
            "Requirement already satisfied: protobuf!=4.21.0,!=4.21.1,!=4.21.2,!=4.21.3,!=4.21.4,!=4.21.5,<6.0.0dev,>=3.20.3 in /usr/local/lib/python3.12/dist-packages (from tensorflow>=2.2->focal_loss) (5.29.5)\n",
            "Requirement already satisfied: requests<3,>=2.21.0 in /usr/local/lib/python3.12/dist-packages (from tensorflow>=2.2->focal_loss) (2.32.4)\n",
            "Requirement already satisfied: setuptools in /usr/local/lib/python3.12/dist-packages (from tensorflow>=2.2->focal_loss) (75.2.0)\n",
            "Requirement already satisfied: six>=1.12.0 in /usr/local/lib/python3.12/dist-packages (from tensorflow>=2.2->focal_loss) (1.17.0)\n",
            "Requirement already satisfied: termcolor>=1.1.0 in /usr/local/lib/python3.12/dist-packages (from tensorflow>=2.2->focal_loss) (3.1.0)\n",
            "Requirement already satisfied: typing-extensions>=3.6.6 in /usr/local/lib/python3.12/dist-packages (from tensorflow>=2.2->focal_loss) (4.14.1)\n",
            "Requirement already satisfied: wrapt>=1.11.0 in /usr/local/lib/python3.12/dist-packages (from tensorflow>=2.2->focal_loss) (1.17.3)\n",
            "Requirement already satisfied: grpcio<2.0,>=1.24.3 in /usr/local/lib/python3.12/dist-packages (from tensorflow>=2.2->focal_loss) (1.74.0)\n",
            "Requirement already satisfied: tensorboard~=2.19.0 in /usr/local/lib/python3.12/dist-packages (from tensorflow>=2.2->focal_loss) (2.19.0)\n",
            "Requirement already satisfied: keras>=3.5.0 in /usr/local/lib/python3.12/dist-packages (from tensorflow>=2.2->focal_loss) (3.10.0)\n",
            "Requirement already satisfied: numpy<2.2.0,>=1.26.0 in /usr/local/lib/python3.12/dist-packages (from tensorflow>=2.2->focal_loss) (2.0.2)\n",
            "Requirement already satisfied: h5py>=3.11.0 in /usr/local/lib/python3.12/dist-packages (from tensorflow>=2.2->focal_loss) (3.14.0)\n",
            "Requirement already satisfied: ml-dtypes<1.0.0,>=0.5.1 in /usr/local/lib/python3.12/dist-packages (from tensorflow>=2.2->focal_loss) (0.5.3)\n",
            "Requirement already satisfied: wheel<1.0,>=0.23.0 in /usr/local/lib/python3.12/dist-packages (from astunparse>=1.6.0->tensorflow>=2.2->focal_loss) (0.45.1)\n",
            "Requirement already satisfied: rich in /usr/local/lib/python3.12/dist-packages (from keras>=3.5.0->tensorflow>=2.2->focal_loss) (13.9.4)\n",
            "Requirement already satisfied: namex in /usr/local/lib/python3.12/dist-packages (from keras>=3.5.0->tensorflow>=2.2->focal_loss) (0.1.0)\n",
            "Requirement already satisfied: optree in /usr/local/lib/python3.12/dist-packages (from keras>=3.5.0->tensorflow>=2.2->focal_loss) (0.17.0)\n",
            "Requirement already satisfied: charset_normalizer<4,>=2 in /usr/local/lib/python3.12/dist-packages (from requests<3,>=2.21.0->tensorflow>=2.2->focal_loss) (3.4.3)\n",
            "Requirement already satisfied: idna<4,>=2.5 in /usr/local/lib/python3.12/dist-packages (from requests<3,>=2.21.0->tensorflow>=2.2->focal_loss) (3.10)\n",
            "Requirement already satisfied: urllib3<3,>=1.21.1 in /usr/local/lib/python3.12/dist-packages (from requests<3,>=2.21.0->tensorflow>=2.2->focal_loss) (2.5.0)\n",
            "Requirement already satisfied: certifi>=2017.4.17 in /usr/local/lib/python3.12/dist-packages (from requests<3,>=2.21.0->tensorflow>=2.2->focal_loss) (2025.8.3)\n",
            "Requirement already satisfied: markdown>=2.6.8 in /usr/local/lib/python3.12/dist-packages (from tensorboard~=2.19.0->tensorflow>=2.2->focal_loss) (3.8.2)\n",
            "Requirement already satisfied: tensorboard-data-server<0.8.0,>=0.7.0 in /usr/local/lib/python3.12/dist-packages (from tensorboard~=2.19.0->tensorflow>=2.2->focal_loss) (0.7.2)\n",
            "Requirement already satisfied: werkzeug>=1.0.1 in /usr/local/lib/python3.12/dist-packages (from tensorboard~=2.19.0->tensorflow>=2.2->focal_loss) (3.1.3)\n",
            "Requirement already satisfied: MarkupSafe>=2.1.1 in /usr/local/lib/python3.12/dist-packages (from werkzeug>=1.0.1->tensorboard~=2.19.0->tensorflow>=2.2->focal_loss) (3.0.2)\n",
            "Requirement already satisfied: markdown-it-py>=2.2.0 in /usr/local/lib/python3.12/dist-packages (from rich->keras>=3.5.0->tensorflow>=2.2->focal_loss) (4.0.0)\n",
            "Requirement already satisfied: pygments<3.0.0,>=2.13.0 in /usr/local/lib/python3.12/dist-packages (from rich->keras>=3.5.0->tensorflow>=2.2->focal_loss) (2.19.2)\n",
            "Requirement already satisfied: mdurl~=0.1 in /usr/local/lib/python3.12/dist-packages (from markdown-it-py>=2.2.0->rich->keras>=3.5.0->tensorflow>=2.2->focal_loss) (0.1.2)\n"
          ]
        }
      ]
    },
    {
      "cell_type": "code",
      "source": [
        "import pandas as pd\n",
        "import numpy as np\n",
        "from sklearn.model_selection import train_test_split\n",
        "from sklearn.preprocessing import StandardScaler, LabelEncoder\n",
        "from sklearn.utils import class_weight\n",
        "from tensorflow.keras.models import Sequential\n",
        "from tensorflow.keras.layers import LSTM, Dense, Dropout, Bidirectional, Attention, Input, Conv1D, MaxPooling1D\n",
        "from tensorflow.keras.utils import to_categorical\n",
        "from tensorflow.keras.callbacks import EarlyStopping, ReduceLROnPlateau # Import new callbacks\n",
        "import matplotlib.pyplot as plt\n",
        "from sklearn.metrics import classification_report, confusion_matrix\n",
        "import seaborn as sns\n",
        "\n",
        "# Path to your CSV file in Google Colab\n",
        "CSV_PATH = \"/content/donki_flare_dataset_with_wsa.csv\""
      ],
      "metadata": {
        "id": "RkangPUq_8aI"
      },
      "execution_count": null,
      "outputs": []
    },
    {
      "cell_type": "code",
      "source": [
        "# Load the dataset\n",
        "df = pd.read_csv(CSV_PATH)\n",
        "\n",
        "# Display the first few rows and basic info\n",
        "print(\"First 5 rows of the dataset:\")\n",
        "print(df.head())\n",
        "print(\"\\nDataset Info:\")\n",
        "df.info()"
      ],
      "metadata": {
        "colab": {
          "base_uri": "https://localhost:8080/"
        },
        "id": "OPX5E5MIB2sP",
        "outputId": "26a6ddbc-8253-49b8-f733-3fd42ae2260b"
      },
      "execution_count": null,
      "outputs": [
        {
          "output_type": "stream",
          "name": "stdout",
          "text": [
            "First 5 rows of the dataset:\n",
            "   active_region_num          cutoff_time  flr_count_6h  flr_count_6h_B  \\\n",
            "0              12253  2014-12-31 09:00:00             0               0   \n",
            "1              12253  2014-12-31 15:00:00             0               0   \n",
            "2              12253  2014-12-31 21:00:00             0               0   \n",
            "3              12253  2015-01-01 03:00:00             0               0   \n",
            "4              12253  2015-01-01 09:00:00             0               0   \n",
            "\n",
            "   flr_count_6h_C  flr_count_6h_M  flr_count_6h_X  flr_max_class_ord_6h  \\\n",
            "0               0               0               0                    -1   \n",
            "1               0               0               0                    -1   \n",
            "2               0               0               0                    -1   \n",
            "3               0               0               0                    -1   \n",
            "4               0               0               0                    -1   \n",
            "\n",
            "   flr_peak_flux_max_6h  flr_count_12h  ...  sep_present_72h  \\\n",
            "0                   0.0              0  ...                0   \n",
            "1                   0.0              0  ...                0   \n",
            "2                   0.0              0  ...                0   \n",
            "3                   0.0              0  ...                0   \n",
            "4                   0.0              0  ...                0   \n",
            "\n",
            "   sep_peak_flux_max  ips_present_72h  ips_at_earth  wsa_sim_count_72h  \\\n",
            "0                0.0                0             0                  0   \n",
            "1                0.0                0             0                  0   \n",
            "2                0.0                0             0                  0   \n",
            "3                0.0                0             0                  0   \n",
            "4                0.0                0             0                  0   \n",
            "\n",
            "   wsa_earth_impact_predicted_72h  wsa_min_au_72h  y_next24h_MX  \\\n",
            "0                               0           999.0             0   \n",
            "1                               0           999.0             0   \n",
            "2                               0           999.0             0   \n",
            "3                               0           999.0             0   \n",
            "4                               0           999.0             0   \n",
            "\n",
            "   y_next24h_class_letter  y_next24h_class_ord  \n",
            "0                     NaN                    0  \n",
            "1                     NaN                    0  \n",
            "2                     NaN                    0  \n",
            "3                     NaN                    0  \n",
            "4                     NaN                    0  \n",
            "\n",
            "[5 rows x 37 columns]\n",
            "\n",
            "Dataset Info:\n",
            "<class 'pandas.core.frame.DataFrame'>\n",
            "RangeIndex: 19051 entries, 0 to 19050\n",
            "Data columns (total 37 columns):\n",
            " #   Column                          Non-Null Count  Dtype  \n",
            "---  ------                          --------------  -----  \n",
            " 0   active_region_num               19051 non-null  int64  \n",
            " 1   cutoff_time                     19051 non-null  object \n",
            " 2   flr_count_6h                    19051 non-null  int64  \n",
            " 3   flr_count_6h_B                  19051 non-null  int64  \n",
            " 4   flr_count_6h_C                  19051 non-null  int64  \n",
            " 5   flr_count_6h_M                  19051 non-null  int64  \n",
            " 6   flr_count_6h_X                  19051 non-null  int64  \n",
            " 7   flr_max_class_ord_6h            19051 non-null  int64  \n",
            " 8   flr_peak_flux_max_6h            19051 non-null  float64\n",
            " 9   flr_count_12h                   19051 non-null  int64  \n",
            " 10  flr_count_12h_B                 19051 non-null  int64  \n",
            " 11  flr_count_12h_C                 19051 non-null  int64  \n",
            " 12  flr_count_12h_M                 19051 non-null  int64  \n",
            " 13  flr_count_12h_X                 19051 non-null  int64  \n",
            " 14  flr_max_class_ord_12h           19051 non-null  int64  \n",
            " 15  flr_peak_flux_max_12h           19051 non-null  float64\n",
            " 16  flr_count_24h                   19051 non-null  int64  \n",
            " 17  flr_count_24h_B                 19051 non-null  int64  \n",
            " 18  flr_count_24h_C                 19051 non-null  int64  \n",
            " 19  flr_count_24h_M                 19051 non-null  int64  \n",
            " 20  flr_count_24h_X                 19051 non-null  int64  \n",
            " 21  flr_max_class_ord_24h           19051 non-null  int64  \n",
            " 22  flr_peak_flux_max_24h           19051 non-null  float64\n",
            " 23  flr_time_since_last_peak_min    19051 non-null  float64\n",
            " 24  cme_present_48h                 19051 non-null  int64  \n",
            " 25  cme_speed_max_48h               19051 non-null  float64\n",
            " 26  cme_halfangle_mean_48h          19051 non-null  float64\n",
            " 27  sep_present_72h                 19051 non-null  int64  \n",
            " 28  sep_peak_flux_max               16543 non-null  float64\n",
            " 29  ips_present_72h                 19051 non-null  int64  \n",
            " 30  ips_at_earth                    19051 non-null  int64  \n",
            " 31  wsa_sim_count_72h               19051 non-null  int64  \n",
            " 32  wsa_earth_impact_predicted_72h  19051 non-null  int64  \n",
            " 33  wsa_min_au_72h                  19051 non-null  float64\n",
            " 34  y_next24h_MX                    19051 non-null  int64  \n",
            " 35  y_next24h_class_letter          5313 non-null   object \n",
            " 36  y_next24h_class_ord             19051 non-null  int64  \n",
            "dtypes: float64(8), int64(27), object(2)\n",
            "memory usage: 5.4+ MB\n"
          ]
        }
      ]
    },
    {
      "cell_type": "code",
      "source": [
        "# Convert 'cutoff_time' to datetime\n",
        "df['cutoff_time'] = pd.to_datetime(df['cutoff_time'])\n",
        "\n",
        "# Replace 'inf' in 'flr_time_since_last_peak_min' with a large number\n",
        "df['flr_time_since_last_peak_min'].replace([np.inf, -np.inf], 1e9, inplace=True)\n",
        "\n",
        "# Fill any other potential NaN values (using forward fill) for all features first\n",
        "df.fillna(method='ffill', inplace=True)\n",
        "# Fill any remaining NaNs (if any at the beginning) with 0\n",
        "df.fillna(0, inplace=True)\n",
        "\n",
        "# --- NEW: Re-map '0' and 'B' classes to 'None' ---\n",
        "# Convert target column to string first to handle any mixed types during replace\n",
        "df['y_next24h_class_letter'] = df['y_next24h_class_letter'].astype(str)\n",
        "df['y_next24h_class_letter'] = df['y_next24h_class_letter'].replace(['0', 'B', 'nan'], 'None')\n",
        "# Note: 'nan' string comes from np.nan being converted to string. We also map this to 'None'.\n",
        "# Any original pandas NaNs would have been filled with 'None' if .fillna('None') was before .astype(str).\n",
        "# Here, we do astype(str) first then replace 'nan' string.\n",
        "\n",
        "# Display updated counts\n",
        "print(\"\\nTarget class distribution after re-mapping:\")\n",
        "print(df['y_next24h_class_letter'].value_counts())"
      ],
      "metadata": {
        "colab": {
          "base_uri": "https://localhost:8080/"
        },
        "id": "xWt9ym1BB-4a",
        "outputId": "a4463592-9473-49c6-c321-3f114492f669"
      },
      "execution_count": null,
      "outputs": [
        {
          "output_type": "stream",
          "name": "stdout",
          "text": [
            "\n",
            "Target class distribution after re-mapping:\n",
            "y_next24h_class_letter\n",
            "M       12286\n",
            "X        3426\n",
            "C        3009\n",
            "None      330\n",
            "Name: count, dtype: int64\n"
          ]
        },
        {
          "output_type": "stream",
          "name": "stderr",
          "text": [
            "/tmp/ipython-input-2427985309.py:5: FutureWarning: A value is trying to be set on a copy of a DataFrame or Series through chained assignment using an inplace method.\n",
            "The behavior will change in pandas 3.0. This inplace method will never work because the intermediate object on which we are setting values always behaves as a copy.\n",
            "\n",
            "For example, when doing 'df[col].method(value, inplace=True)', try using 'df.method({col: value}, inplace=True)' or df[col] = df[col].method(value) instead, to perform the operation inplace on the original object.\n",
            "\n",
            "\n",
            "  df['flr_time_since_last_peak_min'].replace([np.inf, -np.inf], 1e9, inplace=True)\n",
            "/tmp/ipython-input-2427985309.py:8: FutureWarning: DataFrame.fillna with 'method' is deprecated and will raise in a future version. Use obj.ffill() or obj.bfill() instead.\n",
            "  df.fillna(method='ffill', inplace=True)\n"
          ]
        }
      ]
    },
    {
      "cell_type": "code",
      "source": [
        "# Encode the target as an ORDINAL label with explicit class order\n",
        "# We keep only the 4-class setup: ['None','C','M','X']\n",
        "CLASS_ORDER = ['None', 'C', 'M', 'X']\n",
        "CLASS_TO_ORD = {c:i for i,c in enumerate(CLASS_ORDER)}\n",
        "\n",
        "# Filter to those classes only (drop rare 'B' etc.)\n",
        "df = df[df['y_next24h_class_letter'].isin(CLASS_ORDER)].copy()\n",
        "\n",
        "# Ordinal target 0..K-1 with order None < C < M < X\n",
        "y_ord = df['y_next24h_class_letter'].map(CLASS_TO_ORD).astype(int)\n",
        "\n",
        "# Define features (exclude obvious target/leakage/ids)\n",
        "features = [col for col in df.columns if col not in [\n",
        "    'active_region_num', 'y_next24h_class_letter', 'y_next24h_class_ord'\n",
        "]]\n",
        "X = df[features]\n",
        "\n",
        "print(\"Ordinal mapping used:\", CLASS_TO_ORD)\n",
        "print(\"y_ord value counts (after filtering):\")\n",
        "print(y_ord.value_counts().sort_index().rename(index=dict(enumerate(CLASS_ORDER))))\n"
      ],
      "metadata": {
        "colab": {
          "base_uri": "https://localhost:8080/"
        },
        "id": "3sdRRM8MDYPr",
        "outputId": "05f258af-16c0-4667-c73f-fef537638f53"
      },
      "execution_count": null,
      "outputs": [
        {
          "output_type": "stream",
          "name": "stdout",
          "text": [
            "Ordinal mapping used: {'None': 0, 'C': 1, 'M': 2, 'X': 3}\n",
            "y_ord value counts (after filtering):\n",
            "y_next24h_class_letter\n",
            "None      330\n",
            "C        3009\n",
            "M       12286\n",
            "X        3426\n",
            "Name: count, dtype: int64\n"
          ]
        }
      ]
    },
    {
      "cell_type": "code",
      "source": [
        "def create_sequences(X, y, time_steps=10):\n",
        "    Xs, ys = [], []\n",
        "    for i in range(len(X) - time_steps):\n",
        "        # Ensure X is numpy array before slicing for consistency\n",
        "        Xs.append(X[i:(i + time_steps)].values)\n",
        "        ys.append(y[i + time_steps])\n",
        "    return np.array(Xs), np.array(ys)\n",
        "\n",
        "TIME_STEPS = 10  # Use 10 previous time steps to predict the next one\n",
        "X_seq, y_seq = create_sequences(X, y_ord.values, TIME_STEPS) # X is now the unscaled DataFrame\n",
        "# Note: X_seq will contain raw values at this point. Scaling happens later.\n",
        "\n",
        "print(f\"\\nShape of sequential features (X_seq): {X_seq.shape}\")\n",
        "print(f\"Shape of sequential target (y_seq): {y_seq.shape}\")"
      ],
      "metadata": {
        "colab": {
          "base_uri": "https://localhost:8080/"
        },
        "id": "w-X2j9jtCCAO",
        "outputId": "ce345ca4-984a-487f-f9c2-0f1a6f0ced91"
      },
      "execution_count": null,
      "outputs": [
        {
          "output_type": "stream",
          "name": "stdout",
          "text": [
            "\n",
            "Shape of sequential features (X_seq): (19041, 10, 34)\n",
            "Shape of sequential target (y_seq): (19041,)\n"
          ]
        }
      ]
    },
    {
      "cell_type": "code",
      "source": [
        "# --- REVISED & IMPROVED: Hybrid Chronological-Stratified Split & Scaling ---\n",
        "from sklearn.model_selection import train_test_split\n",
        "from sklearn.preprocessing import StandardScaler\n",
        "import numpy as np\n",
        "import pandas as pd # Import pandas to use .value_counts() and .to_dict()\n",
        "\n",
        "# Build sequential features from X and y_ord BEFORE the split\n",
        "# Drop the 'cutoff_time' column from X as it's not a numerical feature for scaling\n",
        "X_numerical = X.drop('cutoff_time', axis=1)\n",
        "\n",
        "def create_sequences(X, y, time_steps=10):\n",
        "    Xs, ys = [], []\n",
        "    # Ensure X is numpy array before slicing for consistency\n",
        "    X_values = X.values if isinstance(X, pd.DataFrame) else X\n",
        "    y_values = y.values if isinstance(y, pd.Series) else y # Handle Series or array input\n",
        "    for i in range(len(X_values) - time_steps):\n",
        "        Xs.append(X_values[i:(i + time_steps)])\n",
        "        ys.append(y_values[i + time_steps])\n",
        "    return np.array(Xs), np.array(ys)\n",
        "\n",
        "TIME_STEPS = 10  # Use 10 previous time steps to predict the next one\n",
        "X_seq, y_seq = create_sequences(X_numerical, y_ord, TIME_STEPS) # Use X_numerical and y_ord\n",
        "\n",
        "print(f\"\\nShape of sequential features (X_seq): {X_seq.shape}\")\n",
        "print(f\"Shape of sequential target (y_seq): {y_seq.shape}\")\n",
        "\n",
        "hold_out_size = int(len(X_seq) * 0.20)\n",
        "X_train_pool, y_train_pool = X_seq[:-hold_out_size], y_seq[:-hold_out_size]\n",
        "X_future_pool, y_future_pool = X_seq[-hold_out_size:], y_seq[-hold_out_size:]\n",
        "\n",
        "# Stratify only within the \"future\" pool to get a representative recent VAL/TEST\n",
        "X_val, X_test, y_val, y_test = train_test_split(\n",
        "    X_future_pool, y_future_pool, test_size=0.50, random_state=42, stratify=y_future_pool\n",
        ")\n",
        "\n",
        "X_train, y_train = X_train_pool, y_train_pool\n",
        "\n",
        "print(f\"Training data shape: {X_train.shape}\")\n",
        "print(f\"Validation data shape: {X_val.shape}\")\n",
        "print(f\"Test data shape: {X_test.shape}\")\n",
        "\n",
        "# Show class distribution\n",
        "from collections import Counter\n",
        "CLASS_ORDER = ['None', 'C', 'M', 'X']  # keep consistent everywhere\n",
        "print(\"\\nClass distribution (train/val/test) in ORDINAL ids (0=None,1=C,2=M,3=X):\")\n",
        "for name, yy in [('train', y_train), ('val', y_val), ('test', y_test)]:\n",
        "    cnt = pd.Series(yy).value_counts(normalize=True).sort_index()\n",
        "    # Add back missing classes if they don't appear in a split for consistent printing\n",
        "    for i in range(len(CLASS_ORDER)):\n",
        "        if i not in cnt.index:\n",
        "            cnt[i] = 0\n",
        "    print(name, cnt.sort_index().to_dict())\n",
        "\n",
        "\n",
        "# --- Build CORAL (ordinal) targets: K-1 binary columns with r_k = 1 if y > k else 0 ---\n",
        "K = 4  # ['None','C','M','X']\n",
        "\n",
        "def to_coral_targets(y_int, K):\n",
        "    y = np.asarray(y_int).astype(int)\n",
        "    # shape: (N, K-1)\n",
        "    Y = np.zeros((len(y), K-1), dtype=np.float32)\n",
        "    for k in range(K-1):\n",
        "        Y[:, k] = (y > k).astype(np.float32)\n",
        "    return Y\n",
        "\n",
        "Y_train_coral = to_coral_targets(y_train, K)\n",
        "Y_val_coral   = to_coral_targets(y_val,   K)\n",
        "Y_test_coral  = to_coral_targets(y_test,  K)\n",
        "\n",
        "print(\"\\nBuilt CORAL targets with shape:\")\n",
        "print(\"Train:\", Y_train_coral.shape, \" Val:\", Y_val_coral.shape, \" Test:\", Y_test_coral.shape)\n",
        "\n",
        "# --- Scaling (fit only on TRAIN) ---\n",
        "scaler = StandardScaler()\n",
        "n_samples, T, F = X_train.shape\n",
        "X_train_2d = X_train.reshape(n_samples*T, F)\n",
        "X_val_2d   = X_val.reshape(X_val.shape[0]*T, F)\n",
        "X_test_2d  = X_test.reshape(X_test.shape[0]*T, F)\n",
        "\n",
        "# Handle potential NaN/inf values before scaling\n",
        "X_train_2d = np.nan_to_num(X_train_2d, copy=False, nan=0.0, posinf=1e9, neginf=-1e9)\n",
        "X_val_2d   = np.nan_to_num(X_val_2d,   copy=False, nan=0.0, posinf=1e9, neginf=-1e9)\n",
        "X_test_2d  = np.nan_to_num(X_test_2d,  copy=False, nan=0.0, posinf=1e9, neginf=-1e9)\n",
        "\n",
        "\n",
        "X_train_scaled = scaler.fit_transform(X_train_2d).reshape(n_samples, T, F)\n",
        "X_val_scaled   = scaler.transform(X_val_2d).reshape(X_val.shape[0], T, F)\n",
        "X_test_scaled  = scaler.transform(X_test_2d).reshape(X_test.shape[0], T, F)\n",
        "\n",
        "print(\"\\nFeatures successfully scaled on the training portion only.\")"
      ],
      "metadata": {
        "colab": {
          "base_uri": "https://localhost:8080/"
        },
        "id": "GPeEUHFmDtXW",
        "outputId": "e4368ddc-d495-417a-ff16-f2124f75b727"
      },
      "execution_count": null,
      "outputs": [
        {
          "output_type": "stream",
          "name": "stdout",
          "text": [
            "\n",
            "Shape of sequential features (X_seq): (19041, 10, 33)\n",
            "Shape of sequential target (y_seq): (19041,)\n",
            "Training data shape: (15233, 10, 33)\n",
            "Validation data shape: (1904, 10, 33)\n",
            "Test data shape: (1904, 10, 33)\n",
            "\n",
            "Class distribution (train/val/test) in ORDINAL ids (0=None,1=C,2=M,3=X):\n",
            "train {0: 0.02107267117442395, 1: 0.16608678526882426, 2: 0.6003413641436355, 3: 0.21249917941311627}\n",
            "val {0: 0.0, 1: 0.1255252100840336, 2: 0.8245798319327731, 3: 0.04989495798319328}\n",
            "test {0: 0.0, 1: 0.12605042016806722, 2: 0.8245798319327731, 3: 0.04936974789915966}\n",
            "\n",
            "Built CORAL targets with shape:\n",
            "Train: (15233, 3)  Val: (1904, 3)  Test: (1904, 3)\n",
            "\n",
            "Features successfully scaled on the training portion only.\n"
          ]
        }
      ]
    },
    {
      "cell_type": "code",
      "source": [
        "'''\n",
        "# Calculate class weights to handle imbalance\n",
        "class_weights = class_weight.compute_class_weight('balanced',\n",
        "                                                 classes=np.unique(y_seq),\n",
        "                                                 y=y_seq)\n",
        "class_weights_dict = dict(enumerate(class_weights))\n",
        "\n",
        "print(\"\\nClass weights to handle imbalance:\")\n",
        "print(class_weights_dict)\n",
        "'''"
      ],
      "metadata": {
        "id": "xoz594ywDyL7",
        "colab": {
          "base_uri": "https://localhost:8080/",
          "height": 71
        },
        "outputId": "c4c0b43a-2556-4632-fa64-d128b02211b4"
      },
      "execution_count": null,
      "outputs": [
        {
          "output_type": "execute_result",
          "data": {
            "text/plain": [
              "'\\n# Calculate class weights to handle imbalance\\nclass_weights = class_weight.compute_class_weight(\\'balanced\\',\\n                                                 classes=np.unique(y_seq),\\n                                                 y=y_seq)\\nclass_weights_dict = dict(enumerate(class_weights))\\n\\nprint(\"\\nClass weights to handle imbalance:\")\\nprint(class_weights_dict)\\n'"
            ],
            "application/vnd.google.colaboratory.intrinsic+json": {
              "type": "string"
            }
          },
          "metadata": {},
          "execution_count": 12
        }
      ]
    },
    {
      "cell_type": "code",
      "source": [
        "!pip install keras-tuner"
      ],
      "metadata": {
        "id": "lNrHNIQosY1z",
        "colab": {
          "base_uri": "https://localhost:8080/"
        },
        "outputId": "a5cf14c9-d10f-4261-9ce5-02c9dbf41ad5"
      },
      "execution_count": null,
      "outputs": [
        {
          "output_type": "stream",
          "name": "stdout",
          "text": [
            "Collecting keras-tuner\n",
            "  Downloading keras_tuner-1.4.7-py3-none-any.whl.metadata (5.4 kB)\n",
            "Requirement already satisfied: keras in /usr/local/lib/python3.12/dist-packages (from keras-tuner) (3.10.0)\n",
            "Requirement already satisfied: packaging in /usr/local/lib/python3.12/dist-packages (from keras-tuner) (25.0)\n",
            "Requirement already satisfied: requests in /usr/local/lib/python3.12/dist-packages (from keras-tuner) (2.32.4)\n",
            "Collecting kt-legacy (from keras-tuner)\n",
            "  Downloading kt_legacy-1.0.5-py3-none-any.whl.metadata (221 bytes)\n",
            "Requirement already satisfied: absl-py in /usr/local/lib/python3.12/dist-packages (from keras->keras-tuner) (1.4.0)\n",
            "Requirement already satisfied: numpy in /usr/local/lib/python3.12/dist-packages (from keras->keras-tuner) (2.0.2)\n",
            "Requirement already satisfied: rich in /usr/local/lib/python3.12/dist-packages (from keras->keras-tuner) (13.9.4)\n",
            "Requirement already satisfied: namex in /usr/local/lib/python3.12/dist-packages (from keras->keras-tuner) (0.1.0)\n",
            "Requirement already satisfied: h5py in /usr/local/lib/python3.12/dist-packages (from keras->keras-tuner) (3.14.0)\n",
            "Requirement already satisfied: optree in /usr/local/lib/python3.12/dist-packages (from keras->keras-tuner) (0.17.0)\n",
            "Requirement already satisfied: ml-dtypes in /usr/local/lib/python3.12/dist-packages (from keras->keras-tuner) (0.5.3)\n",
            "Requirement already satisfied: charset_normalizer<4,>=2 in /usr/local/lib/python3.12/dist-packages (from requests->keras-tuner) (3.4.3)\n",
            "Requirement already satisfied: idna<4,>=2.5 in /usr/local/lib/python3.12/dist-packages (from requests->keras-tuner) (3.10)\n",
            "Requirement already satisfied: urllib3<3,>=1.21.1 in /usr/local/lib/python3.12/dist-packages (from requests->keras-tuner) (2.5.0)\n",
            "Requirement already satisfied: certifi>=2017.4.17 in /usr/local/lib/python3.12/dist-packages (from requests->keras-tuner) (2025.8.3)\n",
            "Requirement already satisfied: typing-extensions>=4.6.0 in /usr/local/lib/python3.12/dist-packages (from optree->keras->keras-tuner) (4.14.1)\n",
            "Requirement already satisfied: markdown-it-py>=2.2.0 in /usr/local/lib/python3.12/dist-packages (from rich->keras->keras-tuner) (4.0.0)\n",
            "Requirement already satisfied: pygments<3.0.0,>=2.13.0 in /usr/local/lib/python3.12/dist-packages (from rich->keras->keras-tuner) (2.19.2)\n",
            "Requirement already satisfied: mdurl~=0.1 in /usr/local/lib/python3.12/dist-packages (from markdown-it-py>=2.2.0->rich->keras->keras-tuner) (0.1.2)\n",
            "Downloading keras_tuner-1.4.7-py3-none-any.whl (129 kB)\n",
            "\u001b[2K   \u001b[90m━━━━━━━━━━━━━━━━━━━━━━━━━━━━━━━━━━━━━━━━\u001b[0m \u001b[32m129.1/129.1 kB\u001b[0m \u001b[31m3.3 MB/s\u001b[0m eta \u001b[36m0:00:00\u001b[0m\n",
            "\u001b[?25hDownloading kt_legacy-1.0.5-py3-none-any.whl (9.6 kB)\n",
            "Installing collected packages: kt-legacy, keras-tuner\n",
            "Successfully installed keras-tuner-1.4.7 kt-legacy-1.0.5\n"
          ]
        }
      ]
    },
    {
      "cell_type": "code",
      "source": [
        "# --- ORDINAL MODEL: CNN + BiLSTM + Attention + CORAL Head ---\n",
        "from tensorflow.keras.models import Model\n",
        "from tensorflow.keras.layers import Input, Conv1D, MaxPooling1D, Bidirectional, LSTM, Dropout, Dense, Attention\n",
        "\n",
        "input_layer = Input(shape=(X_train_scaled.shape[1], X_train_scaled.shape[2]))\n",
        "\n",
        "# 1D CNN feature extractor\n",
        "x = Conv1D(filters=64, kernel_size=3, activation='relu', padding='same')(input_layer)\n",
        "x = Conv1D(filters=64, kernel_size=3, activation='relu', padding='same')(x)\n",
        "x = MaxPooling1D(pool_size=2)(x)\n",
        "\n",
        "# BiLSTM\n",
        "x = Bidirectional(LSTM(128, return_sequences=True))(x)\n",
        "x = Dropout(0.3)(x)\n",
        "\n",
        "# Additive attention over time\n",
        "attn_context = Attention()([x, x])  # (batch, T, features)\n",
        "from tensorflow.keras.layers import GlobalAveragePooling1D\n",
        "pooled = GlobalAveragePooling1D()(attn_context)\n",
        "\n",
        "# Dense trunk\n",
        "x = Dense(128, activation='relu')(pooled)\n",
        "x = Dropout(0.3)(x)\n",
        "\n",
        "# CORAL ordinal head: K-1 independent sigmoids (y > k)\n",
        "K = 4\n",
        "output_layer = Dense(K-1, activation='sigmoid', name='ordinal_head')(x)\n",
        "\n",
        "model = Model(inputs=input_layer, outputs=output_layer)\n",
        "model.summary()\n"
      ],
      "metadata": {
        "id": "xtwBjwKoD0V4",
        "colab": {
          "base_uri": "https://localhost:8080/",
          "height": 595
        },
        "outputId": "f22d707b-7096-4c75-f8c1-04f2a2553993"
      },
      "execution_count": null,
      "outputs": [
        {
          "output_type": "display_data",
          "data": {
            "text/plain": [
              "\u001b[1mModel: \"functional\"\u001b[0m\n"
            ],
            "text/html": [
              "<pre style=\"white-space:pre;overflow-x:auto;line-height:normal;font-family:Menlo,'DejaVu Sans Mono',consolas,'Courier New',monospace\"><span style=\"font-weight: bold\">Model: \"functional\"</span>\n",
              "</pre>\n"
            ]
          },
          "metadata": {}
        },
        {
          "output_type": "display_data",
          "data": {
            "text/plain": [
              "┏━━━━━━━━━━━━━━━━━━━━━┳━━━━━━━━━━━━━━━━━━━┳━━━━━━━━━━━━┳━━━━━━━━━━━━━━━━━━━┓\n",
              "┃\u001b[1m \u001b[0m\u001b[1mLayer (type)       \u001b[0m\u001b[1m \u001b[0m┃\u001b[1m \u001b[0m\u001b[1mOutput Shape     \u001b[0m\u001b[1m \u001b[0m┃\u001b[1m \u001b[0m\u001b[1m   Param #\u001b[0m\u001b[1m \u001b[0m┃\u001b[1m \u001b[0m\u001b[1mConnected to     \u001b[0m\u001b[1m \u001b[0m┃\n",
              "┡━━━━━━━━━━━━━━━━━━━━━╇━━━━━━━━━━━━━━━━━━━╇━━━━━━━━━━━━╇━━━━━━━━━━━━━━━━━━━┩\n",
              "│ input_layer         │ (\u001b[38;5;45mNone\u001b[0m, \u001b[38;5;34m10\u001b[0m, \u001b[38;5;34m33\u001b[0m)    │          \u001b[38;5;34m0\u001b[0m │ -                 │\n",
              "│ (\u001b[38;5;33mInputLayer\u001b[0m)        │                   │            │                   │\n",
              "├─────────────────────┼───────────────────┼────────────┼───────────────────┤\n",
              "│ conv1d (\u001b[38;5;33mConv1D\u001b[0m)     │ (\u001b[38;5;45mNone\u001b[0m, \u001b[38;5;34m10\u001b[0m, \u001b[38;5;34m64\u001b[0m)    │      \u001b[38;5;34m6,400\u001b[0m │ input_layer[\u001b[38;5;34m0\u001b[0m][\u001b[38;5;34m0\u001b[0m] │\n",
              "├─────────────────────┼───────────────────┼────────────┼───────────────────┤\n",
              "│ conv1d_1 (\u001b[38;5;33mConv1D\u001b[0m)   │ (\u001b[38;5;45mNone\u001b[0m, \u001b[38;5;34m10\u001b[0m, \u001b[38;5;34m64\u001b[0m)    │     \u001b[38;5;34m12,352\u001b[0m │ conv1d[\u001b[38;5;34m0\u001b[0m][\u001b[38;5;34m0\u001b[0m]      │\n",
              "├─────────────────────┼───────────────────┼────────────┼───────────────────┤\n",
              "│ max_pooling1d       │ (\u001b[38;5;45mNone\u001b[0m, \u001b[38;5;34m5\u001b[0m, \u001b[38;5;34m64\u001b[0m)     │          \u001b[38;5;34m0\u001b[0m │ conv1d_1[\u001b[38;5;34m0\u001b[0m][\u001b[38;5;34m0\u001b[0m]    │\n",
              "│ (\u001b[38;5;33mMaxPooling1D\u001b[0m)      │                   │            │                   │\n",
              "├─────────────────────┼───────────────────┼────────────┼───────────────────┤\n",
              "│ bidirectional       │ (\u001b[38;5;45mNone\u001b[0m, \u001b[38;5;34m5\u001b[0m, \u001b[38;5;34m256\u001b[0m)    │    \u001b[38;5;34m197,632\u001b[0m │ max_pooling1d[\u001b[38;5;34m0\u001b[0m]… │\n",
              "│ (\u001b[38;5;33mBidirectional\u001b[0m)     │                   │            │                   │\n",
              "├─────────────────────┼───────────────────┼────────────┼───────────────────┤\n",
              "│ dropout (\u001b[38;5;33mDropout\u001b[0m)   │ (\u001b[38;5;45mNone\u001b[0m, \u001b[38;5;34m5\u001b[0m, \u001b[38;5;34m256\u001b[0m)    │          \u001b[38;5;34m0\u001b[0m │ bidirectional[\u001b[38;5;34m0\u001b[0m]… │\n",
              "├─────────────────────┼───────────────────┼────────────┼───────────────────┤\n",
              "│ attention           │ (\u001b[38;5;45mNone\u001b[0m, \u001b[38;5;34m5\u001b[0m, \u001b[38;5;34m256\u001b[0m)    │          \u001b[38;5;34m0\u001b[0m │ dropout[\u001b[38;5;34m0\u001b[0m][\u001b[38;5;34m0\u001b[0m],    │\n",
              "│ (\u001b[38;5;33mAttention\u001b[0m)         │                   │            │ dropout[\u001b[38;5;34m0\u001b[0m][\u001b[38;5;34m0\u001b[0m]     │\n",
              "├─────────────────────┼───────────────────┼────────────┼───────────────────┤\n",
              "│ global_average_poo… │ (\u001b[38;5;45mNone\u001b[0m, \u001b[38;5;34m256\u001b[0m)       │          \u001b[38;5;34m0\u001b[0m │ attention[\u001b[38;5;34m0\u001b[0m][\u001b[38;5;34m0\u001b[0m]   │\n",
              "│ (\u001b[38;5;33mGlobalAveragePool…\u001b[0m │                   │            │                   │\n",
              "├─────────────────────┼───────────────────┼────────────┼───────────────────┤\n",
              "│ dense (\u001b[38;5;33mDense\u001b[0m)       │ (\u001b[38;5;45mNone\u001b[0m, \u001b[38;5;34m128\u001b[0m)       │     \u001b[38;5;34m32,896\u001b[0m │ global_average_p… │\n",
              "├─────────────────────┼───────────────────┼────────────┼───────────────────┤\n",
              "│ dropout_1 (\u001b[38;5;33mDropout\u001b[0m) │ (\u001b[38;5;45mNone\u001b[0m, \u001b[38;5;34m128\u001b[0m)       │          \u001b[38;5;34m0\u001b[0m │ dense[\u001b[38;5;34m0\u001b[0m][\u001b[38;5;34m0\u001b[0m]       │\n",
              "├─────────────────────┼───────────────────┼────────────┼───────────────────┤\n",
              "│ ordinal_head        │ (\u001b[38;5;45mNone\u001b[0m, \u001b[38;5;34m3\u001b[0m)         │        \u001b[38;5;34m387\u001b[0m │ dropout_1[\u001b[38;5;34m0\u001b[0m][\u001b[38;5;34m0\u001b[0m]   │\n",
              "│ (\u001b[38;5;33mDense\u001b[0m)             │                   │            │                   │\n",
              "└─────────────────────┴───────────────────┴────────────┴───────────────────┘\n"
            ],
            "text/html": [
              "<pre style=\"white-space:pre;overflow-x:auto;line-height:normal;font-family:Menlo,'DejaVu Sans Mono',consolas,'Courier New',monospace\">┏━━━━━━━━━━━━━━━━━━━━━┳━━━━━━━━━━━━━━━━━━━┳━━━━━━━━━━━━┳━━━━━━━━━━━━━━━━━━━┓\n",
              "┃<span style=\"font-weight: bold\"> Layer (type)        </span>┃<span style=\"font-weight: bold\"> Output Shape      </span>┃<span style=\"font-weight: bold\">    Param # </span>┃<span style=\"font-weight: bold\"> Connected to      </span>┃\n",
              "┡━━━━━━━━━━━━━━━━━━━━━╇━━━━━━━━━━━━━━━━━━━╇━━━━━━━━━━━━╇━━━━━━━━━━━━━━━━━━━┩\n",
              "│ input_layer         │ (<span style=\"color: #00d7ff; text-decoration-color: #00d7ff\">None</span>, <span style=\"color: #00af00; text-decoration-color: #00af00\">10</span>, <span style=\"color: #00af00; text-decoration-color: #00af00\">33</span>)    │          <span style=\"color: #00af00; text-decoration-color: #00af00\">0</span> │ -                 │\n",
              "│ (<span style=\"color: #0087ff; text-decoration-color: #0087ff\">InputLayer</span>)        │                   │            │                   │\n",
              "├─────────────────────┼───────────────────┼────────────┼───────────────────┤\n",
              "│ conv1d (<span style=\"color: #0087ff; text-decoration-color: #0087ff\">Conv1D</span>)     │ (<span style=\"color: #00d7ff; text-decoration-color: #00d7ff\">None</span>, <span style=\"color: #00af00; text-decoration-color: #00af00\">10</span>, <span style=\"color: #00af00; text-decoration-color: #00af00\">64</span>)    │      <span style=\"color: #00af00; text-decoration-color: #00af00\">6,400</span> │ input_layer[<span style=\"color: #00af00; text-decoration-color: #00af00\">0</span>][<span style=\"color: #00af00; text-decoration-color: #00af00\">0</span>] │\n",
              "├─────────────────────┼───────────────────┼────────────┼───────────────────┤\n",
              "│ conv1d_1 (<span style=\"color: #0087ff; text-decoration-color: #0087ff\">Conv1D</span>)   │ (<span style=\"color: #00d7ff; text-decoration-color: #00d7ff\">None</span>, <span style=\"color: #00af00; text-decoration-color: #00af00\">10</span>, <span style=\"color: #00af00; text-decoration-color: #00af00\">64</span>)    │     <span style=\"color: #00af00; text-decoration-color: #00af00\">12,352</span> │ conv1d[<span style=\"color: #00af00; text-decoration-color: #00af00\">0</span>][<span style=\"color: #00af00; text-decoration-color: #00af00\">0</span>]      │\n",
              "├─────────────────────┼───────────────────┼────────────┼───────────────────┤\n",
              "│ max_pooling1d       │ (<span style=\"color: #00d7ff; text-decoration-color: #00d7ff\">None</span>, <span style=\"color: #00af00; text-decoration-color: #00af00\">5</span>, <span style=\"color: #00af00; text-decoration-color: #00af00\">64</span>)     │          <span style=\"color: #00af00; text-decoration-color: #00af00\">0</span> │ conv1d_1[<span style=\"color: #00af00; text-decoration-color: #00af00\">0</span>][<span style=\"color: #00af00; text-decoration-color: #00af00\">0</span>]    │\n",
              "│ (<span style=\"color: #0087ff; text-decoration-color: #0087ff\">MaxPooling1D</span>)      │                   │            │                   │\n",
              "├─────────────────────┼───────────────────┼────────────┼───────────────────┤\n",
              "│ bidirectional       │ (<span style=\"color: #00d7ff; text-decoration-color: #00d7ff\">None</span>, <span style=\"color: #00af00; text-decoration-color: #00af00\">5</span>, <span style=\"color: #00af00; text-decoration-color: #00af00\">256</span>)    │    <span style=\"color: #00af00; text-decoration-color: #00af00\">197,632</span> │ max_pooling1d[<span style=\"color: #00af00; text-decoration-color: #00af00\">0</span>]… │\n",
              "│ (<span style=\"color: #0087ff; text-decoration-color: #0087ff\">Bidirectional</span>)     │                   │            │                   │\n",
              "├─────────────────────┼───────────────────┼────────────┼───────────────────┤\n",
              "│ dropout (<span style=\"color: #0087ff; text-decoration-color: #0087ff\">Dropout</span>)   │ (<span style=\"color: #00d7ff; text-decoration-color: #00d7ff\">None</span>, <span style=\"color: #00af00; text-decoration-color: #00af00\">5</span>, <span style=\"color: #00af00; text-decoration-color: #00af00\">256</span>)    │          <span style=\"color: #00af00; text-decoration-color: #00af00\">0</span> │ bidirectional[<span style=\"color: #00af00; text-decoration-color: #00af00\">0</span>]… │\n",
              "├─────────────────────┼───────────────────┼────────────┼───────────────────┤\n",
              "│ attention           │ (<span style=\"color: #00d7ff; text-decoration-color: #00d7ff\">None</span>, <span style=\"color: #00af00; text-decoration-color: #00af00\">5</span>, <span style=\"color: #00af00; text-decoration-color: #00af00\">256</span>)    │          <span style=\"color: #00af00; text-decoration-color: #00af00\">0</span> │ dropout[<span style=\"color: #00af00; text-decoration-color: #00af00\">0</span>][<span style=\"color: #00af00; text-decoration-color: #00af00\">0</span>],    │\n",
              "│ (<span style=\"color: #0087ff; text-decoration-color: #0087ff\">Attention</span>)         │                   │            │ dropout[<span style=\"color: #00af00; text-decoration-color: #00af00\">0</span>][<span style=\"color: #00af00; text-decoration-color: #00af00\">0</span>]     │\n",
              "├─────────────────────┼───────────────────┼────────────┼───────────────────┤\n",
              "│ global_average_poo… │ (<span style=\"color: #00d7ff; text-decoration-color: #00d7ff\">None</span>, <span style=\"color: #00af00; text-decoration-color: #00af00\">256</span>)       │          <span style=\"color: #00af00; text-decoration-color: #00af00\">0</span> │ attention[<span style=\"color: #00af00; text-decoration-color: #00af00\">0</span>][<span style=\"color: #00af00; text-decoration-color: #00af00\">0</span>]   │\n",
              "│ (<span style=\"color: #0087ff; text-decoration-color: #0087ff\">GlobalAveragePool…</span> │                   │            │                   │\n",
              "├─────────────────────┼───────────────────┼────────────┼───────────────────┤\n",
              "│ dense (<span style=\"color: #0087ff; text-decoration-color: #0087ff\">Dense</span>)       │ (<span style=\"color: #00d7ff; text-decoration-color: #00d7ff\">None</span>, <span style=\"color: #00af00; text-decoration-color: #00af00\">128</span>)       │     <span style=\"color: #00af00; text-decoration-color: #00af00\">32,896</span> │ global_average_p… │\n",
              "├─────────────────────┼───────────────────┼────────────┼───────────────────┤\n",
              "│ dropout_1 (<span style=\"color: #0087ff; text-decoration-color: #0087ff\">Dropout</span>) │ (<span style=\"color: #00d7ff; text-decoration-color: #00d7ff\">None</span>, <span style=\"color: #00af00; text-decoration-color: #00af00\">128</span>)       │          <span style=\"color: #00af00; text-decoration-color: #00af00\">0</span> │ dense[<span style=\"color: #00af00; text-decoration-color: #00af00\">0</span>][<span style=\"color: #00af00; text-decoration-color: #00af00\">0</span>]       │\n",
              "├─────────────────────┼───────────────────┼────────────┼───────────────────┤\n",
              "│ ordinal_head        │ (<span style=\"color: #00d7ff; text-decoration-color: #00d7ff\">None</span>, <span style=\"color: #00af00; text-decoration-color: #00af00\">3</span>)         │        <span style=\"color: #00af00; text-decoration-color: #00af00\">387</span> │ dropout_1[<span style=\"color: #00af00; text-decoration-color: #00af00\">0</span>][<span style=\"color: #00af00; text-decoration-color: #00af00\">0</span>]   │\n",
              "│ (<span style=\"color: #0087ff; text-decoration-color: #0087ff\">Dense</span>)             │                   │            │                   │\n",
              "└─────────────────────┴───────────────────┴────────────┴───────────────────┘\n",
              "</pre>\n"
            ]
          },
          "metadata": {}
        },
        {
          "output_type": "display_data",
          "data": {
            "text/plain": [
              "\u001b[1m Total params: \u001b[0m\u001b[38;5;34m249,667\u001b[0m (975.26 KB)\n"
            ],
            "text/html": [
              "<pre style=\"white-space:pre;overflow-x:auto;line-height:normal;font-family:Menlo,'DejaVu Sans Mono',consolas,'Courier New',monospace\"><span style=\"font-weight: bold\"> Total params: </span><span style=\"color: #00af00; text-decoration-color: #00af00\">249,667</span> (975.26 KB)\n",
              "</pre>\n"
            ]
          },
          "metadata": {}
        },
        {
          "output_type": "display_data",
          "data": {
            "text/plain": [
              "\u001b[1m Trainable params: \u001b[0m\u001b[38;5;34m249,667\u001b[0m (975.26 KB)\n"
            ],
            "text/html": [
              "<pre style=\"white-space:pre;overflow-x:auto;line-height:normal;font-family:Menlo,'DejaVu Sans Mono',consolas,'Courier New',monospace\"><span style=\"font-weight: bold\"> Trainable params: </span><span style=\"color: #00af00; text-decoration-color: #00af00\">249,667</span> (975.26 KB)\n",
              "</pre>\n"
            ]
          },
          "metadata": {}
        },
        {
          "output_type": "display_data",
          "data": {
            "text/plain": [
              "\u001b[1m Non-trainable params: \u001b[0m\u001b[38;5;34m0\u001b[0m (0.00 B)\n"
            ],
            "text/html": [
              "<pre style=\"white-space:pre;overflow-x:auto;line-height:normal;font-family:Menlo,'DejaVu Sans Mono',consolas,'Courier New',monospace\"><span style=\"font-weight: bold\"> Non-trainable params: </span><span style=\"color: #00af00; text-decoration-color: #00af00\">0</span> (0.00 B)\n",
              "</pre>\n"
            ]
          },
          "metadata": {}
        }
      ]
    },
    {
      "cell_type": "code",
      "source": [
        "# --- Compile & Train: CORAL Objective ---\n",
        "from tensorflow.keras.callbacks import EarlyStopping, ReduceLROnPlateau\n",
        "\n",
        "model.compile(\n",
        "    optimizer='adam',\n",
        "    loss='binary_crossentropy',   # sum of BCEs over the K-1 thresholds\n",
        "    metrics=['accuracy']          # (per-threshold; final class metrics computed later)\n",
        ")\n",
        "\n",
        "early_stopping = EarlyStopping(monitor='val_loss', patience=6, restore_best_weights=True)\n",
        "reduce_lr = ReduceLROnPlateau(monitor='val_loss', factor=0.5, patience=3, min_lr=1e-5, verbose=1)\n",
        "\n",
        "history = model.fit(\n",
        "    X_train_scaled, Y_train_coral,\n",
        "    epochs=5,\n",
        "    batch_size=32,\n",
        "    validation_data=(X_val_scaled, Y_val_coral),\n",
        "    callbacks=[early_stopping, reduce_lr],\n",
        "    verbose=1\n",
        ")\n",
        "\n",
        "# Plot training history (loss is most meaningful for CORAL)\n",
        "plt.plot(history.history['loss'], label='train_loss')\n",
        "plt.plot(history.history['val_loss'], label='val_loss')\n",
        "plt.title('Training Loss (CORAL)')\n",
        "plt.ylabel('Loss')\n",
        "plt.xlabel('Epoch')\n",
        "plt.legend()\n",
        "plt.show()\n"
      ],
      "metadata": {
        "colab": {
          "base_uri": "https://localhost:8080/",
          "height": 686
        },
        "id": "QjqnlzKND2sB",
        "outputId": "b4dcb131-221d-40b6-920f-65fa5d05d9f5"
      },
      "execution_count": null,
      "outputs": [
        {
          "output_type": "stream",
          "name": "stdout",
          "text": [
            "Epoch 1/5\n",
            "\u001b[1m477/477\u001b[0m \u001b[32m━━━━━━━━━━━━━━━━━━━━\u001b[0m\u001b[37m\u001b[0m \u001b[1m25s\u001b[0m 32ms/step - accuracy: 0.9080 - loss: 0.2214 - val_accuracy: 1.0000 - val_loss: 0.1194 - learning_rate: 0.0010\n",
            "Epoch 2/5\n",
            "\u001b[1m477/477\u001b[0m \u001b[32m━━━━━━━━━━━━━━━━━━━━\u001b[0m\u001b[37m\u001b[0m \u001b[1m16s\u001b[0m 23ms/step - accuracy: 0.9536 - loss: 0.1240 - val_accuracy: 1.0000 - val_loss: 0.1098 - learning_rate: 0.0010\n",
            "Epoch 3/5\n",
            "\u001b[1m477/477\u001b[0m \u001b[32m━━━━━━━━━━━━━━━━━━━━\u001b[0m\u001b[37m\u001b[0m \u001b[1m21s\u001b[0m 23ms/step - accuracy: 0.9868 - loss: 0.1141 - val_accuracy: 1.0000 - val_loss: 0.1182 - learning_rate: 0.0010\n",
            "Epoch 4/5\n",
            "\u001b[1m477/477\u001b[0m \u001b[32m━━━━━━━━━━━━━━━━━━━━\u001b[0m\u001b[37m\u001b[0m \u001b[1m21s\u001b[0m 24ms/step - accuracy: 0.9859 - loss: 0.1078 - val_accuracy: 1.0000 - val_loss: 0.1252 - learning_rate: 0.0010\n",
            "Epoch 5/5\n",
            "\u001b[1m474/477\u001b[0m \u001b[32m━━━━━━━━━━━━━━━━━━━\u001b[0m\u001b[37m━\u001b[0m \u001b[1m0s\u001b[0m 34ms/step - accuracy: 0.9950 - loss: 0.0987\n",
            "Epoch 5: ReduceLROnPlateau reducing learning rate to 0.0005000000237487257.\n",
            "\u001b[1m477/477\u001b[0m \u001b[32m━━━━━━━━━━━━━━━━━━━━\u001b[0m\u001b[37m\u001b[0m \u001b[1m17s\u001b[0m 35ms/step - accuracy: 0.9950 - loss: 0.0987 - val_accuracy: 1.0000 - val_loss: 0.1113 - learning_rate: 0.0010\n"
          ]
        },
        {
          "output_type": "display_data",
          "data": {
            "text/plain": [
              "<Figure size 640x480 with 1 Axes>"
            ],
            "image/png": "[encoded data removed]"
          },
          "metadata": {}
        }
      ]
    },
    {
      "cell_type": "code",
      "source": [
        "# --- FINAL EVALUATION (ORDINAL): decode CORAL outputs and tune a single tau on VAL ---\n",
        "import numpy as np\n",
        "from sklearn.metrics import classification_report, confusion_matrix, f1_score, accuracy_score\n",
        "import matplotlib.pyplot as plt\n",
        "import seaborn as sns\n",
        "\n",
        "CLASS_ORDER = ['None', 'C', 'M', 'X']\n",
        "K = 4\n",
        "\n",
        "def coral_decode(proba_Km1, tau=0.5):\n",
        "    \"\"\"Given (N, K-1) sigmoid outputs, return ordinal classes 0..K-1.\n",
        "       Count how many thresholds are passed (>= tau).\"\"\"\n",
        "    thr_passed = (proba_Km1 >= tau).astype(int).sum(axis=1)\n",
        "    return thr_passed  # already 0..K-1\n",
        "\n",
        "# 1) Tune a single tau on the VALIDATION set (optimize macro-F1; switch to accuracy if desired)\n",
        "proba_val = model.predict(X_val_scaled, verbose=0)\n",
        "taus = np.linspace(0.30, 0.70, 17)\n",
        "best = {\"tau\": None, \"macro_f1\": -1, \"acc\": -1}\n",
        "\n",
        "for tau in taus:\n",
        "    y_val_pred = coral_decode(proba_val, tau=tau)\n",
        "    macro = f1_score(y_val, y_val_pred, average='macro', zero_division=0)\n",
        "    acc = accuracy_score(y_val, y_val_pred)\n",
        "    score = macro  # choose your objective here\n",
        "    if score > best['macro_f1']:\n",
        "        best = {\"tau\": tau, \"macro_f1\": macro, \"acc\": acc}\n",
        "\n",
        "print(f\"\\nTuned tau* on VAL (objective=macro-F1): tau*={best['tau']:.3f}, \"\n",
        "      f\"VAL Acc={best['acc']:.4f}, VAL Macro-F1={best['macro_f1']:.4f}\")\n",
        "\n",
        "# 2) Apply tau* on TEST\n",
        "proba_test = model.predict(X_test_scaled, verbose=0)\n",
        "y_test_pred = coral_decode(proba_test, tau=best['tau'])\n",
        "\n",
        "print(\"\\nClassification Report on TEST (ordinal):\")\n",
        "print(classification_report(\n",
        "    y_test, y_test_pred,\n",
        "    target_names=CLASS_ORDER,\n",
        "    labels=np.arange(K), # Explicitly provide all possible labels\n",
        "    zero_division=0\n",
        "))\n",
        "\n",
        "# Use y_test to get all labels for the confusion matrix\n",
        "cm = confusion_matrix(y_test, y_test_pred, labels=np.unique(y_test))\n",
        "plt.figure(figsize=(8,6))\n",
        "sns.heatmap(cm, annot=True, fmt='d', cmap='Blues',\n",
        "            xticklabels=CLASS_ORDER, yticklabels=CLASS_ORDER)\n",
        "plt.title('Confusion Matrix — TEST (Ordinal / CORAL)')\n",
        "plt.ylabel('Actual')\n",
        "plt.xlabel('Predicted')\n",
        "plt.show()\n",
        "\n",
        "# 3) For comparison, also show tau=0.5 default\n",
        "y_test_pred_05 = coral_decode(proba_test, tau=0.5)\n",
        "acc05 = accuracy_score(y_test, y_test_pred_05)\n",
        "macro05 = f1_score(y_test, y_test_pred_05, average='macro', zero_division=0)\n",
        "print(f\"Default tau=0.5 — TEST: Acc={acc05:.4f} | Macro-F1={macro05:.4f}\")"
      ],
      "metadata": {
        "colab": {
          "base_uri": "https://localhost:8080/",
          "height": 850
        },
        "id": "_VBMRFM3EcC3",
        "outputId": "5e44169a-b0d5-4165-e272-808e99ef2e64"
      },
      "execution_count": null,
      "outputs": [
        {
          "output_type": "stream",
          "name": "stdout",
          "text": [
            "\n",
            "Tuned tau* on VAL (objective=macro-F1): tau*=0.375, VAL Acc=0.9086, VAL Macro-F1=0.7118\n",
            "\n",
            "Classification Report on TEST (ordinal):\n",
            "              precision    recall  f1-score   support\n",
            "\n",
            "        None       0.00      0.00      0.00         0\n",
            "           C       0.89      0.74      0.81       240\n",
            "           M       0.93      0.97      0.95      1570\n",
            "           X       0.45      0.32      0.38        94\n",
            "\n",
            "    accuracy                           0.91      1904\n",
            "   macro avg       0.57      0.51      0.53      1904\n",
            "weighted avg       0.90      0.91      0.90      1904\n",
            "\n"
          ]
        },
        {
          "output_type": "display_data",
          "data": {
            "text/plain": [
              "<Figure size 800x600 with 2 Axes>"
            ],
            "image/png": "[encoded data removed]"
          },
          "metadata": {}
        },
        {
          "output_type": "stream",
          "name": "stdout",
          "text": [
            "Default tau=0.5 — TEST: Acc=0.9091 | Macro-F1=0.6962\n"
          ]
        }
      ]
    },
    {
      "cell_type": "code",
      "source": [],
      "metadata": {
        "id": "3xNCVJgiIwMD"
      },
      "execution_count": null,
      "outputs": []
    },
    {
      "cell_type": "code",
      "source": [],
      "metadata": {
        "id": "GIkYOHYelVcI"
      },
      "execution_count": null,
      "outputs": []
    },
    {
      "cell_type": "code",
      "source": [],
      "metadata": {
        "id": "84tgD9IVw95P"
      },
      "execution_count": null,
      "outputs": []
    }
  ]
}